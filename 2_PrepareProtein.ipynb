{
 "cells": [
  {
   "cell_type": "markdown",
   "id": "e6c76ed3",
   "metadata": {},
   "source": [
    "# Protein and ligand preparation for AutoDock Vina\n",
    "\n",
    "### Import needed libraries"
   ]
  },
  {
   "cell_type": "code",
   "execution_count": 105,
   "id": "20e2072d",
   "metadata": {},
   "outputs": [],
   "source": [
    "#conda install pdb2pqr, pdbfixer, biopython, meeko\n",
    "import os\n",
    "from Bio.PDB import PDBParser, PDBIO, Select\n",
    "from rdkit import Chem\n",
    "from rdkit.Chem import AllChem\n",
    "from meeko import MoleculePreparation, PDBQTWriterLegacy\n",
    "import subprocess"
   ]
  },
  {
   "cell_type": "markdown",
   "id": "7cc9cd46",
   "metadata": {},
   "source": [
    "### Define some classes and helper functions"
   ]
  },
  {
   "cell_type": "code",
   "execution_count": 106,
   "id": "e6ab48cd",
   "metadata": {},
   "outputs": [],
   "source": [
    "class ProteinSelect(Select):\n",
    "    def __init__(self, ligand_resname):\n",
    "        self.ligand_resname = ligand_resname\n",
    "\n",
    "    def accept_residue(self, residue):\n",
    "        \"\"\"Select only protein residues, excluding ligand and water.\"\"\"\n",
    "        hetfield, _, _ = residue.get_id()\n",
    "        if residue.get_resname().strip() == self.ligand_resname:\n",
    "            return 0\n",
    "        if hetfield.strip() != \"\" or residue.get_resname() == \"HOH\":\n",
    "            return 0\n",
    "        return 1\n",
    "\n",
    "class LigandSelect(Select):\n",
    "    def __init__(self, ligand_resname):\n",
    "        self.ligand_resname = ligand_resname\n",
    "\n",
    "    def accept_residue(self, residue):\n",
    "        \"\"\"Select only ligand residues.\"\"\"\n",
    "        return residue.get_resname().strip() == self.ligand_resname\n",
    "\n",
    "def extract_protein_and_ligand(pdb_file, ligand_resname):\n",
    "    \"\"\"\n",
    "    Extract protein and ligand separately from complex pdb.\n",
    "    Args:\n",
    "        pdb_file (str): Path to input PDB file containing protein-ligand complex.\n",
    "        ligand_resname (str): Residue name of the ligand in the PDB file.\n",
    "    Returns:\n",
    "        protein_file (str): Path to output protein-only PDB file.\n",
    "        ligand_file (str): Path to output ligand-only PDB file.\n",
    "    \"\"\"\n",
    "    parser = PDBParser(QUIET=True)\n",
    "    structure = parser.get_structure(\"complex\", pdb_file)\n",
    "    io = PDBIO()\n",
    "\n",
    "    # Protein extraction\n",
    "    io.set_structure(structure)\n",
    "    protein_file = \"protein_clean.pdb\" \n",
    "    io.save(protein_file, ProteinSelect(ligand_resname)) #removed ligand_resname from ()\n",
    "\n",
    "    # Ligand extraction\n",
    "    io.set_structure(structure)\n",
    "    ligand_file = \"ligand_only.pdb\"\n",
    "    io.save(ligand_file, LigandSelect(ligand_resname)) #removed ligand_resname from ()\n",
    "\n",
    "    print(f\"[INFO] Extracted protein to {protein_file} and ligand to {ligand_file}\")\n",
    "    return protein_file, ligand_file\n",
    "\n",
    "def prepare_ligand(ligand_pdb, output_pdbqt):\n",
    "    \"\"\"\n",
    "    Prepare co-ligand for docking: add hydrogens, embed, optimize, export PDBQT.\n",
    "    Args:\n",
    "        ligand_pdb (str): Path to input ligand PDB file.\n",
    "        output_pdbqt (str): Path to output prepared ligand PDBQT file.\n",
    "    Returns:\n",
    "        None\n",
    "    \"\"\"\n",
    "    mol = Chem.MolFromPDBFile(ligand_pdb, removeHs=False)\n",
    "    if mol is None:\n",
    "        raise ValueError(f\"Failed to read ligand from {ligand_pdb}\")\n",
    "\n",
    "    # Add hydrogens and generate 3D conformation, optimize geometry\n",
    "    mol = Chem.AddHs(mol)\n",
    "    #AllChem.EmbedMolecule(mol, AllChem.ETKDGv3())\n",
    "    #AllChem.UFFOptimizeMolecule(mol)\n",
    "\n",
    "    # Convert ligand to PDBQT via Meeko\n",
    "    prep = MoleculePreparation()\n",
    "    mol_setup = prep.prepare(mol)\n",
    "    pdbqt_string, ok, err = PDBQTWriterLegacy.write_string(mol_setup[0])\n",
    "    if not ok:\n",
    "        raise ValueError(f\"Failed generating PDBQT for ligand: {err}\")\n",
    "\n",
    "    with open(output_pdbqt, \"w\") as f:\n",
    "        f.write(pdbqt_string)\n",
    "    print(f\"[INFO] Ligand prepared and saved to {output_pdbqt}\")\n",
    "    \n",
    "def prepare_protein():\n",
    "    \"\"\"\n",
    "    Prepare protein receptor for docking using Meeko (adds hydrogens, converts to PDBQT).\n",
    "    \"\"\"\n",
    "\n",
    "    #Calculate the center of the ligand to set as box center\n",
    "    lig = Chem.MolFromPDBFile(\"ligand_only.pdb\", removeHs=False)\n",
    "    conf = lig.GetConformer()\n",
    "    xs, ys, zs = zip(*[list(conf.GetAtomPosition(i)) for i in range(lig.GetNumAtoms())])\n",
    "    #store up to 3 decimal places\n",
    "    xsc = round(sum(xs)/len(xs), 3)\n",
    "    ysc = round(sum(ys)/len(ys), 3)\n",
    "    zsc = round(sum(zs)/len(zs), 3)\n",
    "    print(f\"xsc = {xsc}, ysc = {ysc}, zsc = {zsc}\")\n",
    "    print(f\"center_x = {sum(xs)/len(xs):.3f}\")\n",
    "    print(f\"center_y = {sum(ys)/len(ys):.3f}\")\n",
    "    print(f\"center_z = {sum(zs)/len(zs):.3f}\")\n",
    "\n",
    "    # The sed command to replace HIS with HID in the protein PDB file. This is done as Meeko doesn't recognise HIS\n",
    "    sed_command = [\"sed\", \"s/HIS/HID/g\", \"protein_clean.pdb\"]\n",
    "    # Run the command\n",
    "    with open(\"input_HID.pdb\", \"w\") as outfile:\n",
    "        subprocess.run(sed_command, stdout=outfile, check=True)\n",
    "\n",
    "    #Treat the file using AMBER's tleap, this converts the HIS to HID\n",
    "    tleap_commands = \"\"\"\\\n",
    "    source leaprc.protein.ff14SB\n",
    "    mol = loadpdb input_HID.pdb\n",
    "    savepdb mol output_HID.pdb\n",
    "    quit\n",
    "    \"\"\"\n",
    "    with open(\"tleap.in\", \"w\") as f:\n",
    "        f.write(tleap_commands)\n",
    "\n",
    "    # Run tleap with the input file\n",
    "    result = subprocess.run([\"tleap\", \"-f\", \"tleap.in\"], capture_output=True, text=True)\n",
    "    print(result.stdout)\n",
    "\n",
    "    # Construct the mk_prepare_receptor.py command with formatted box_center coordinates\n",
    "    mk_prepare_cmd = [\n",
    "        \"mk_prepare_receptor.py\",\n",
    "        \"--pdb\", \"output_HID.pdb\",\n",
    "        \"-o\", \"final_1h1q_protein.pdbqt\",\n",
    "        \"--box_size\", \"16\", \"16\", \"16\",\n",
    "        \"--box_center\", f\"{xsc}\", f\"{ysc}\", f\"{zsc}\"\n",
    "    ]\n",
    "\n",
    "    # Run the mk_prepare_receptor.py command\n",
    "    mk_result = subprocess.run(mk_prepare_cmd, capture_output=True, text=True)\n",
    "    print(mk_result.stdout)\n",
    "    print(f\"[INFO] Protein prepared and saved to final_1h1q_protein.pdbqt\")"
   ]
  },
  {
   "cell_type": "markdown",
   "id": "2c26adf7",
   "metadata": {},
   "source": [
    "### Now define the main function"
   ]
  },
  {
   "cell_type": "code",
   "execution_count": 107,
   "id": "700efd81",
   "metadata": {},
   "outputs": [],
   "source": [
    "def main():\n",
    "    pdb_file = \"1h1q_chainA.pdb\"  # Your input complex PDB\n",
    "    ligand_resname = \"2A6\"  # Your ligand residue name in PDB\n",
    "\n",
    "    protein_pdb, ligand_pdb = extract_protein_and_ligand(pdb_file, ligand_resname)\n",
    "\n",
    "    ligand_pdbqt = \"ligand_prepared.pdbqt\"\n",
    "    prepare_ligand(ligand_pdb, ligand_pdbqt)\n",
    "\n",
    "    prepare_protein()\n",
    "\n",
    "    print(\"[DONE] Receptor and ligand are ready for AutoDock Vina docking.\")\n"
   ]
  },
  {
   "cell_type": "markdown",
   "id": "0ddb9d9b",
   "metadata": {},
   "source": [
    "### Call the main function"
   ]
  },
  {
   "cell_type": "code",
   "execution_count": 108,
   "id": "73fbeb31",
   "metadata": {},
   "outputs": [
    {
     "name": "stdout",
     "output_type": "stream",
     "text": [
      "[INFO] Extracted protein to protein_clean.pdb and ligand to ligand_only.pdb\n",
      "[INFO] Ligand prepared and saved to ligand_prepared.pdbqt\n",
      "xsc = 6.145, ysc = 44.176, zsc = 50.828\n",
      "center_x = 6.145\n",
      "center_y = 44.176\n",
      "center_z = 50.828\n"
     ]
    },
    {
     "name": "stderr",
     "output_type": "stream",
     "text": [
      "python(72196) MallocStackLogging: can't turn off malloc stack logging because it was not enabled.\n",
      "python(72197) MallocStackLogging: can't turn off malloc stack logging because it was not enabled.\n"
     ]
    },
    {
     "name": "stdout",
     "output_type": "stream",
     "text": [
      "-I: Adding /Users/ganeshshahane/miniconda3/envs/TQ_test/dat/leap/prep to search path.\n",
      "-I: Adding /Users/ganeshshahane/miniconda3/envs/TQ_test/dat/leap/lib to search path.\n",
      "-I: Adding /Users/ganeshshahane/miniconda3/envs/TQ_test/dat/leap/parm to search path.\n",
      "-I: Adding /Users/ganeshshahane/miniconda3/envs/TQ_test/dat/leap/cmd to search path.\n",
      "-f: Source tleap.in.\n",
      "\n",
      "Welcome to LEaP!\n",
      "(no leaprc in search path)\n",
      "Sourcing: ./tleap.in\n",
      "----- Source: /Users/ganeshshahane/miniconda3/envs/TQ_test/dat/leap/cmd/leaprc.protein.ff14SB\n",
      "----- Source of /Users/ganeshshahane/miniconda3/envs/TQ_test/dat/leap/cmd/leaprc.protein.ff14SB done\n",
      "Log file: ./leap.log\n",
      "Loading parameters: /Users/ganeshshahane/miniconda3/envs/TQ_test/dat/leap/parm/parm10.dat\n",
      "Reading title:\n",
      "PARM99 + frcmod.ff99SB + frcmod.parmbsc0 + OL3 for RNA\n",
      "Loading parameters: /Users/ganeshshahane/miniconda3/envs/TQ_test/dat/leap/parm/frcmod.ff14SB\n",
      "Reading force field modification type file (frcmod)\n",
      "Reading title:\n",
      "ff14SB protein backbone and sidechain parameters\n",
      "Loading library: /Users/ganeshshahane/miniconda3/envs/TQ_test/dat/leap/lib/amino12.lib\n",
      "Loading library: /Users/ganeshshahane/miniconda3/envs/TQ_test/dat/leap/lib/aminoct12.lib\n",
      "Loading library: /Users/ganeshshahane/miniconda3/envs/TQ_test/dat/leap/lib/aminont12.lib\n",
      "Loading PDB file: ./input_HID.pdb\n",
      "  Added missing heavy atom: .R<CLEU 296>.A<OXT 20>\n",
      "  total atoms in file: 2384\n",
      "  Leap added 2432 missing atoms according to residue templates:\n",
      "       1 Heavy\n",
      "       2431 H / lone pairs\n",
      "Writing pdb file: output_HID.pdb\n",
      "\n",
      "/Users/ganeshshahane/miniconda3/envs/TQ_test/bin/teLeap: Warning!\n",
      " Converting N-terminal residue name to PDB format: NSER -> SER\n",
      "\n",
      "/Users/ganeshshahane/miniconda3/envs/TQ_test/bin/teLeap: Warning!\n",
      " Converting C-terminal residue name to PDB format: CLEU -> LEU\n",
      "\tQuit\n",
      "\n",
      "Exiting LEaP: Errors = 0; Warnings = 2; Notes = 0.\n",
      "\n"
     ]
    },
    {
     "name": "stderr",
     "output_type": "stream",
     "text": [
      "python(72207) MallocStackLogging: can't turn off malloc stack logging because it was not enabled.\n"
     ]
    },
    {
     "name": "stdout",
     "output_type": "stream",
     "text": [
      "\n",
      "Files written:\n",
      "  final_1h1q_protein.pdbqt <-- static (i.e., rigid) receptor input file\n",
      "boron-silicon-atom_par.dat <-- atomic parameters for B and Si (for autogrid)\n",
      "    final_1h1q_protein.gpf <-- autogrid input file\n",
      "final_1h1q_protein.gpf.pdb <-- PDB file to visualize the grid box\n",
      "\n",
      "[INFO] Protein prepared and saved to final_1h1q_protein.pdbqt\n",
      "[DONE] Receptor and ligand are ready for AutoDock Vina docking.\n"
     ]
    }
   ],
   "source": [
    "if __name__ == \"__main__\":\n",
    "    main()"
   ]
  },
  {
   "cell_type": "code",
   "execution_count": null,
   "id": "0a5dc8bb",
   "metadata": {},
   "outputs": [],
   "source": []
  },
  {
   "cell_type": "code",
   "execution_count": null,
   "id": "cb0e0ba8",
   "metadata": {},
   "outputs": [],
   "source": []
  },
  {
   "cell_type": "code",
   "execution_count": null,
   "id": "31bb7d4f",
   "metadata": {},
   "outputs": [],
   "source": []
  },
  {
   "cell_type": "markdown",
   "id": "fdd7f735",
   "metadata": {},
   "source": [
    "#### Some notes, and playing around"
   ]
  },
  {
   "cell_type": "code",
   "execution_count": 57,
   "id": "f7df337c",
   "metadata": {},
   "outputs": [],
   "source": [
    "#!pdb2pqr --ff=AMBER --with-ph=7.4 --titration-state-method=propka protein_clean.pdb protein_clean_prepared.pqr"
   ]
  },
  {
   "cell_type": "code",
   "execution_count": 58,
   "id": "bc1bc3c3",
   "metadata": {},
   "outputs": [],
   "source": [
    "#!obabel protein_clean_prepared.pqr -O protein_clean_prepared.pdb"
   ]
  },
  {
   "cell_type": "code",
   "execution_count": null,
   "id": "6f1268e1",
   "metadata": {},
   "outputs": [
    {
     "name": "stderr",
     "output_type": "stream",
     "text": [
      "/Users/ganeshshahane/miniconda3/envs/TQ_test/lib/python3.12/pty.py:95: DeprecationWarning: This process (pid=73261) is multi-threaded, use of forkpty() may lead to deadlocks in the child.\n",
      "  pid, fd = os.forkpty()\n"
     ]
    }
   ],
   "source": [
    "#!pdbfixer protein_clean_prepared.pdb --ph=7.4 --add-atoms=all --add-residues --output protein_fixed.pdb"
   ]
  },
  {
   "cell_type": "code",
   "execution_count": null,
   "id": "925c8251",
   "metadata": {},
   "outputs": [],
   "source": [
    "#The following command was used to convert HIS to HID before tleap step\n",
    "#sed 's/HIS/HID/g' protein_clean.pdb > input_HID.pdb\n",
    "\n",
    "# Create the following tleap script and get the output_HID.pdb file\n",
    "# tleap.in file content:\n",
    "# source leaprc.protein.ff14SB\n",
    "# mol = loadpdb input_HID.pdb\n",
    "# savepdb mol output_HID.pdb\n",
    "# quit\n",
    "# Then run the following command to execute tleap\n",
    "# !tleap -f tleap.in\n",
    "\n",
    "\n",
    "#Then run the following command to generate final pdbqt file\n",
    "#!mk_prepare_receptor.py --pdb output_HID.pdb -o final_1h1q_protein.pdbqt --box_size 20 20 20 --box_center 6.499 41.178 64.106"
   ]
  },
  {
   "cell_type": "code",
   "execution_count": null,
   "id": "f7efac4e",
   "metadata": {},
   "outputs": [],
   "source": []
  }
 ],
 "metadata": {
  "kernelspec": {
   "display_name": "TQ_test",
   "language": "python",
   "name": "python3"
  },
  "language_info": {
   "codemirror_mode": {
    "name": "ipython",
    "version": 3
   },
   "file_extension": ".py",
   "mimetype": "text/x-python",
   "name": "python",
   "nbconvert_exporter": "python",
   "pygments_lexer": "ipython3",
   "version": "3.12.12"
  }
 },
 "nbformat": 4,
 "nbformat_minor": 5
}
